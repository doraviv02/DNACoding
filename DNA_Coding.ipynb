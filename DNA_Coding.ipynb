{
 "cells": [
  {
   "cell_type": "code",
   "metadata": {
    "id": "hmtufrC-RA5E",
    "ExecuteTime": {
     "end_time": "2024-10-25T16:06:12.634077Z",
     "start_time": "2024-10-25T16:06:12.628117Z"
    }
   },
   "source": [
    "import numpy as np\n",
    "import pandas as pd\n",
    "import math"
   ],
   "outputs": [],
   "execution_count": 102
  },
  {
   "cell_type": "code",
   "metadata": {
    "id": "5o57vHxVSRJE",
    "ExecuteTime": {
     "end_time": "2024-10-25T19:42:18.933689Z",
     "start_time": "2024-10-25T19:42:18.927367Z"
    }
   },
   "source": [
    "def find_n(k):\n",
    "    # Initial guess for n\n",
    "    n = k + 2  # A simple starting guess that should be larger than k + 1\n",
    "    while True:\n",
    "        next_n = k + 1 + math.ceil(math.log2(n))\n",
    "        if next_n == n:\n",
    "            return n\n",
    "        n = next_n\n",
    "    \n",
    "\n",
    "# Calculate the sum of bit positions as specified\n",
    "def sum_positions(v):\n",
    "    return sum((i+1) * bit for i, bit in enumerate(v) if bit is not None)"
   ],
   "outputs": [],
   "execution_count": 192
  },
  {
   "cell_type": "code",
   "metadata": {
    "id": "YWRQGnqdRGCf",
    "ExecuteTime": {
     "end_time": "2024-10-25T19:42:19.140870Z",
     "start_time": "2024-10-25T19:42:19.136550Z"
    }
   },
   "source": [
    "def encoder_VT(u, a):\n",
    "  k = len(u)\n",
    "  n = find_n(k)\n",
    "  sum = 0\n",
    "  # Initialize the codeword with None to indicate positions to be filled\n",
    "  v = [None] * n\n",
    "\n",
    "  # find out the parity indexes which we insert\n",
    "  parity_index = [2**i for i in range(0,n-k-1)]\n",
    "\n",
    "  if (parity_index[-1] < n):\n",
    "    parity_index.append(n)\n",
    "  # set non parity outputs and sum the existing bits in their positions\n",
    "  sum = 0\n",
    "  j = 0\n",
    "  for i in range(1,n+1):\n",
    "    if i not in parity_index:\n",
    "      v[i-1] = u[j]\n",
    "      sum += i*int(u[j])\n",
    "      j += 1\n",
    "  #find out what the sum of the unknown parity bits should be (including modulo)\n",
    "  m = 2*n+1\n",
    "  i = 0\n",
    "  while (m*i+a-sum < 0): # finding the lowest sum which satisfies the equation\n",
    "    i+=1\n",
    "  parity_sum = m*i+a-sum\n",
    "\n",
    "  # find out parity bits by subtracting position\n",
    "  for i in range(len(parity_index)-1,-1,-1):\n",
    "    if (parity_sum >= parity_index[i]):\n",
    "      parity_sum -= parity_index[i]\n",
    "      v[parity_index[i]-1] = '1'\n",
    "    else:\n",
    "      v[parity_index[i]-1] = '0'\n",
    "  return ''.join(v)"
   ],
   "outputs": [],
   "execution_count": 193
  },
  {
   "cell_type": "code",
   "metadata": {
    "id": "v_RZ9na6c0tl",
    "ExecuteTime": {
     "end_time": "2024-10-25T19:42:20.372509Z",
     "start_time": "2024-10-25T19:42:20.368245Z"
    }
   },
   "source": [
    "def extract_message(v):\n",
    "  n = len(v)\n",
    "  k = n- math.ceil(math.log2(n))-1\n",
    "  u = [None]*k\n",
    "  # find out the parity indexes which we insert\n",
    "  j = 0\n",
    "  for i in range(0,n-1):\n",
    "    if (math.log2(i+1) != math.floor(math.log2(i+1))) & (j < k):\n",
    "      u[j] = v[i]\n",
    "      j += 1\n",
    "  return ''.join(u)\n"
   ],
   "outputs": [],
   "execution_count": 194
  },
  {
   "metadata": {
    "ExecuteTime": {
     "end_time": "2024-10-25T19:42:20.685261Z",
     "start_time": "2024-10-25T19:42:20.675802Z"
    }
   },
   "cell_type": "code",
   "source": "extract_message(encoder_VT(\"1111\",a=0))",
   "outputs": [
    {
     "data": {
      "text/plain": [
       "'1111'"
      ]
     },
     "execution_count": 195,
     "metadata": {},
     "output_type": "execute_result"
    }
   ],
   "execution_count": 195
  },
  {
   "metadata": {
    "ExecuteTime": {
     "end_time": "2024-10-25T19:42:20.985393Z",
     "start_time": "2024-10-25T19:42:20.982730Z"
    }
   },
   "cell_type": "code",
   "source": [
    "p_d, p_i, p_s  = 1/4,1/4,1/4 #probabilities\n",
    "p_t = 1-p_d-p_i #probability of transition"
   ],
   "outputs": [],
   "execution_count": 196
  },
  {
   "cell_type": "code",
   "metadata": {
    "id": "CBFWAedwSW0e",
    "ExecuteTime": {
     "end_time": "2024-10-25T19:42:21.331405Z",
     "start_time": "2024-10-25T19:42:21.325968Z"
    }
   },
   "source": [
    "def gamma(r,t,d,d_tag,b): #gamma assuming we setup s correctly\n",
    "  l = d-d_tag\n",
    "  if l== -1:\n",
    "    return p_d\n",
    "  if l>=0:\n",
    "    if d+t-1 >= len(r) or d+t-1 < 0:\n",
    "      #  print(\"hi\")\n",
    "       return 0 # out of bounds\n",
    "    # Note: the sequence starts from t=1 so we need to subtract 1\n",
    "    if int(r[d+t-1]) != b:\n",
    "      return (0.5*p_i)**l*(p_t*p_s+0.5*p_i*p_d)\n",
    "    else:\n",
    "      return (0.5*p_i)**l*(p_t*(1-p_s)+0.5*p_i*p_d)\n",
    "  else: return 0\n"
   ],
   "outputs": [],
   "execution_count": 197
  },
  {
   "metadata": {
    "ExecuteTime": {
     "end_time": "2024-10-25T19:42:22.648763Z",
     "start_time": "2024-10-25T19:42:22.643401Z"
    }
   },
   "cell_type": "code",
   "source": "gamma(\"10101\",4,0,0,0)",
   "outputs": [
    {
     "data": {
      "text/plain": [
       "0.40625"
      ]
     },
     "execution_count": 198,
     "metadata": {},
     "output_type": "execute_result"
    }
   ],
   "execution_count": 198
  },
  {
   "cell_type": "code",
   "metadata": {
    "id": "_EtD-WySf3Qv",
    "ExecuteTime": {
     "end_time": "2024-10-25T21:10:55.573535Z",
     "start_time": "2024-10-25T21:10:55.566091Z"
    }
   },
   "source": [
    "# # given probabilities, find the additional range of looking at values.\n",
    "# A = (p_t*p_s+0.5*p_i*p_d)\n",
    "# B = p_t*(1-p_s)+0.5*p_i*p_d\n",
    "# C = 0.5*p_i\n",
    "\n",
    "# if (A/B == 0 ):\n",
    "#   additional_range = 0\n",
    "# else:\n",
    "#   additional_range = np.floor(np.abs(np.emath.logn(C,A/B))).astype(int)\n",
    "# print(additional_range)"
   ],
   "outputs": [],
   "execution_count": 251
  },
  {
   "cell_type": "code",
   "metadata": {
    "id": "RoMuAqexCnGG",
    "ExecuteTime": {
     "end_time": "2024-10-25T21:10:55.796949Z",
     "start_time": "2024-10-25T21:10:55.792996Z"
    }
   },
   "source": [
    "def print_strand(v, pi, pd, ps):\n",
    "    # Check that probabilities sum to 1\n",
    "    r = []\n",
    "\n",
    "    for vi in v:\n",
    "        while True:\n",
    "            rand = np.random.random()\n",
    "            if rand < pi:\n",
    "                # Insertion error\n",
    "                r.append(np.random.randint(2))  # Append a random 0 or 1\n",
    "            else:\n",
    "                # No more insertions, break the loop\n",
    "                break\n",
    "\n",
    "        rand = np.random.random()\n",
    "        if rand < pd:\n",
    "            # Deletion error\n",
    "            continue  # vi is deleted, so skip appending vi\n",
    "        else:\n",
    "            # Transmission (correct or substitution)\n",
    "            if np.random.random() < ps:\n",
    "                # Substitution error\n",
    "                r.append(int(vi) ^ 1)  # Substitute vi with vi ⊕ 1\n",
    "            else:\n",
    "                # Correct transmission\n",
    "                r.append(int(vi))\n",
    "\n",
    "    return ''.join(map(str,r))"
   ],
   "outputs": [],
   "execution_count": 252
  },
  {
   "cell_type": "code",
   "metadata": {
    "id": "SgfodsOP4UBt",
    "ExecuteTime": {
     "end_time": "2024-10-25T21:22:37.690180Z",
     "start_time": "2024-10-25T21:22:37.668701Z"
    }
   },
   "source": [
    "def get_alphas(received, N, M, n):\n",
    "\n",
    "  alphas = np.zeros((n, M, 3)) #for every time step, save the M best alphas with (value, s' ,d')\n",
    "\n",
    "  alphas[0][0] = [1,0,0] # set the first value to 0 (value,s',d')\n",
    "\n",
    "  for t in range(1,n): # all iterations except first one\n",
    "    s0 = np.mod(alphas[t-1][:,1],2*n+1) # finding all the s that we can lead to given the current state with b=0\n",
    "    s1 = np.mod(alphas[t-1][:,1]+t,2*n+1) # finding all the s that we can lead to given the current state\n",
    "    s = np.append(s0,s1) # both for b=0 and b=1 at that current bit.\n",
    "\n",
    "    # isolating the unique values of s, and indexes of all previous states that lead to them\n",
    "    # output is the unique s, and for every element in original s array what is the index of the unique value\n",
    "    out, indices = np.unique(s, return_inverse=True)\n",
    "\n",
    "    # creating all combinations of next states\n",
    "    next_states = np.zeros((len(out),N+n,3)) # (output for each s, index of output for each t, (value,s,d)\n",
    "    next_states[:,:,2] = np.arange(N+n)-n # create all combinations relating to s,d, including negative values\n",
    "\n",
    "    # setting the s states using the unique s\n",
    "    for i in range(len(out)):\n",
    "      next_states[i,:,1] = out[i]\n",
    "\n",
    "\n",
    "    # calculate all contributions of states\n",
    "\n",
    "    for i in range(len(s)):\n",
    "      #finding the bit b of contribution\n",
    "      b=int(i>=len(s0))\n",
    "      s_index = indices[i]\n",
    "      s_tag_index = i%len(s0)\n",
    "      for d in range(-n,N): # including the negative values\n",
    "        next_states[s_index][d+n][0] += gamma(received,t,d,alphas[t-1][s_tag_index][2],b)*alphas[t-1][s_tag_index][0]\n",
    "    # merge all states\n",
    "    merged = np.concatenate(next_states,axis=0)\n",
    "    # find M best states\n",
    "    if (len(merged) < M):\n",
    "      alphas[t][:len(merged)] = merged[merged[:,0].argsort()][-len(merged):]\n",
    "      alphas[t][len(merged):] = np.zeros((M-len(merged),3))\n",
    "    else:\n",
    "      alphas[t] = merged[merged[:,0].argsort()][-M:]\n",
    "\n",
    "\n",
    "    # renormalize\n",
    "    sum = np.sum(alphas[t][:,0])\n",
    "    if (sum != 0):\n",
    "      alphas[t][:,0] = alphas[t][:,0]#/sum\n",
    "  return alphas"
   ],
   "outputs": [],
   "execution_count": 262
  },
  {
   "metadata": {
    "ExecuteTime": {
     "end_time": "2024-10-25T21:22:37.837499Z",
     "start_time": "2024-10-25T21:22:37.805838Z"
    }
   },
   "cell_type": "code",
   "source": [
    "a = 15\n",
    "get_alphas(\"01001001\",8,100,8)[-1]"
   ],
   "outputs": [
    {
     "data": {
      "text/plain": [
       "array([[ 7.04023329e-03,  3.00000000e+00,  0.00000000e+00],\n",
       "       [ 7.79236280e-03,  1.50000000e+01,  0.00000000e+00],\n",
       "       [ 8.02085263e-03,  1.60000000e+01,  0.00000000e+00],\n",
       "       [ 8.13826974e-03,  0.00000000e+00,  0.00000000e+00],\n",
       "       [ 8.46015677e-03,  1.00000000e+00,  0.00000000e+00],\n",
       "       [ 9.19151306e-03,  7.00000000e+00, -5.00000000e+00],\n",
       "       [ 9.35173035e-03,  8.00000000e+00, -5.00000000e+00],\n",
       "       [ 9.36603546e-03,  6.00000000e+00, -5.00000000e+00],\n",
       "       [ 9.55200195e-03,  5.00000000e+00, -5.00000000e+00],\n",
       "       [ 9.67693329e-03,  9.00000000e+00, -5.00000000e+00],\n",
       "       [ 1.00383817e-02,  8.00000000e+00,  0.00000000e+00],\n",
       "       [ 1.01952802e-02,  1.00000000e+01,  0.00000000e+00],\n",
       "       [ 1.02796555e-02,  1.00000000e+01, -5.00000000e+00],\n",
       "       [ 1.03442109e-02,  1.40000000e+01,  0.00000000e+00],\n",
       "       [ 1.04621620e-02,  1.30000000e+01,  0.00000000e+00],\n",
       "       [ 1.05095967e-02,  5.00000000e+00,  0.00000000e+00],\n",
       "       [ 1.06258392e-02,  4.00000000e+00, -5.00000000e+00],\n",
       "       [ 1.06916428e-02,  1.10000000e+01, -5.00000000e+00],\n",
       "       [ 1.07265111e-02,  6.00000000e+00,  0.00000000e+00],\n",
       "       [ 1.08928680e-02,  3.00000000e+00, -5.00000000e+00],\n",
       "       [ 1.13706589e-02,  2.00000000e+00, -5.00000000e+00],\n",
       "       [ 1.15708229e-02,  9.00000000e+00,  0.00000000e+00],\n",
       "       [ 1.17234475e-02,  1.20000000e+01,  0.00000000e+00],\n",
       "       [ 1.22258909e-02,  1.10000000e+01,  0.00000000e+00],\n",
       "       [ 1.25083012e-02,  7.00000000e+00,  0.00000000e+00],\n",
       "       [ 1.27286911e-02,  0.00000000e+00, -5.00000000e+00],\n",
       "       [ 1.27534866e-02,  1.50000000e+01, -5.00000000e+00],\n",
       "       [ 1.29966736e-02,  1.20000000e+01, -5.00000000e+00],\n",
       "       [ 1.33237839e-02,  1.00000000e+00, -5.00000000e+00],\n",
       "       [ 1.34906769e-02,  1.60000000e+01, -5.00000000e+00],\n",
       "       [ 1.35383606e-02,  1.30000000e+01, -5.00000000e+00],\n",
       "       [ 1.36146545e-02,  1.40000000e+01, -5.00000000e+00],\n",
       "       [ 1.54053881e-02,  4.00000000e+00, -1.00000000e+00],\n",
       "       [ 1.70901057e-02,  2.00000000e+00, -1.00000000e+00],\n",
       "       [ 1.83506864e-02,  5.00000000e+00, -1.00000000e+00],\n",
       "       [ 1.86038646e-02,  3.00000000e+00, -1.00000000e+00],\n",
       "       [ 1.96043754e-02,  1.00000000e+00, -1.00000000e+00],\n",
       "       [ 2.07027574e-02,  1.60000000e+01, -1.00000000e+00],\n",
       "       [ 2.11912242e-02,  0.00000000e+00, -1.00000000e+00],\n",
       "       [ 2.12196112e-02,  2.00000000e+00, -4.00000000e+00],\n",
       "       [ 2.13892211e-02,  6.00000000e+00, -1.00000000e+00],\n",
       "       [ 2.19810009e-02,  4.00000000e+00, -4.00000000e+00],\n",
       "       [ 2.24057219e-02,  1.50000000e+01, -1.00000000e+00],\n",
       "       [ 2.27489471e-02,  6.00000000e+00, -4.00000000e+00],\n",
       "       [ 2.27506161e-02,  3.00000000e+00, -4.00000000e+00],\n",
       "       [ 2.27704500e-02,  7.00000000e+00, -1.00000000e+00],\n",
       "       [ 2.29061903e-02,  8.00000000e+00, -1.00000000e+00],\n",
       "       [ 2.35970509e-02,  1.40000000e+01, -1.00000000e+00],\n",
       "       [ 2.36991644e-02,  5.00000000e+00, -4.00000000e+00],\n",
       "       [ 2.38379997e-02,  1.00000000e+01, -1.00000000e+00],\n",
       "       [ 2.40104198e-02,  8.00000000e+00, -4.00000000e+00],\n",
       "       [ 2.45130062e-02,  7.00000000e+00, -4.00000000e+00],\n",
       "       [ 2.49507427e-02,  1.00000000e+00, -4.00000000e+00],\n",
       "       [ 2.51164839e-02,  9.00000000e+00, -1.00000000e+00],\n",
       "       [ 2.55193678e-02,  1.30000000e+01, -1.00000000e+00],\n",
       "       [ 2.55460879e-02,  1.20000000e+01, -1.00000000e+00],\n",
       "       [ 2.56993771e-02,  0.00000000e+00, -4.00000000e+00],\n",
       "       [ 2.57142708e-02,  6.00000000e+00, -2.00000000e+00],\n",
       "       [ 2.63985917e-02,  4.00000000e+00, -2.00000000e+00],\n",
       "       [ 2.64978409e-02,  1.60000000e+01, -4.00000000e+00],\n",
       "       [ 2.65912935e-02,  8.00000000e+00, -2.00000000e+00],\n",
       "       [ 2.69446503e-02,  5.00000000e+00, -2.00000000e+00],\n",
       "       [ 2.70259597e-02,  1.10000000e+01, -1.00000000e+00],\n",
       "       [ 2.74270773e-02,  9.00000000e+00, -4.00000000e+00],\n",
       "       [ 2.75100619e-02,  2.00000000e+00, -3.00000000e+00],\n",
       "       [ 2.79296637e-02,  1.50000000e+01, -4.00000000e+00],\n",
       "       [ 2.82175541e-02,  1.30000000e+01, -4.00000000e+00],\n",
       "       [ 2.88240910e-02,  1.40000000e+01, -4.00000000e+00],\n",
       "       [ 2.89933681e-02,  1.00000000e+01, -4.00000000e+00],\n",
       "       [ 2.91984081e-02,  1.10000000e+01, -4.00000000e+00],\n",
       "       [ 2.95258909e-02,  1.00000000e+00, -3.00000000e+00],\n",
       "       [ 2.96390131e-02,  7.00000000e+00, -2.00000000e+00],\n",
       "       [ 2.97113061e-02,  4.00000000e+00, -3.00000000e+00],\n",
       "       [ 3.01897395e-02,  9.00000000e+00, -2.00000000e+00],\n",
       "       [ 3.02622318e-02,  1.20000000e+01, -4.00000000e+00],\n",
       "       [ 3.05102542e-02,  3.00000000e+00, -2.00000000e+00],\n",
       "       [ 3.09070069e-02,  2.00000000e+00, -2.00000000e+00],\n",
       "       [ 3.17096114e-02,  3.00000000e+00, -3.00000000e+00],\n",
       "       [ 3.18637788e-02,  1.60000000e+01, -3.00000000e+00],\n",
       "       [ 3.25749069e-02,  6.00000000e+00, -3.00000000e+00],\n",
       "       [ 3.31294686e-02,  0.00000000e+00, -3.00000000e+00],\n",
       "       [ 3.33961174e-02,  1.10000000e+01, -2.00000000e+00],\n",
       "       [ 3.37665677e-02,  5.00000000e+00, -3.00000000e+00],\n",
       "       [ 3.40281799e-02,  1.00000000e+01, -2.00000000e+00],\n",
       "       [ 3.44935060e-02,  8.00000000e+00, -3.00000000e+00],\n",
       "       [ 3.45318466e-02,  1.50000000e+01, -3.00000000e+00],\n",
       "       [ 3.48952636e-02,  1.00000000e+00, -2.00000000e+00],\n",
       "       [ 3.59585546e-02,  1.20000000e+01, -2.00000000e+00],\n",
       "       [ 3.61006036e-02,  0.00000000e+00, -2.00000000e+00],\n",
       "       [ 3.65669262e-02,  1.50000000e+01, -2.00000000e+00],\n",
       "       [ 3.68888378e-02,  1.40000000e+01, -3.00000000e+00],\n",
       "       [ 3.71431708e-02,  7.00000000e+00, -3.00000000e+00],\n",
       "       [ 3.72497104e-02,  1.40000000e+01, -2.00000000e+00],\n",
       "       [ 3.72843742e-02,  1.30000000e+01, -3.00000000e+00],\n",
       "       [ 3.86425816e-02,  1.30000000e+01, -2.00000000e+00],\n",
       "       [ 3.89788225e-02,  1.60000000e+01, -2.00000000e+00],\n",
       "       [ 3.94183546e-02,  1.10000000e+01, -3.00000000e+00],\n",
       "       [ 4.06813622e-02,  1.20000000e+01, -3.00000000e+00],\n",
       "       [ 4.10297066e-02,  9.00000000e+00, -3.00000000e+00],\n",
       "       [ 4.21054512e-02,  1.00000000e+01, -3.00000000e+00]])"
      ]
     },
     "execution_count": 263,
     "metadata": {},
     "output_type": "execute_result"
    }
   ],
   "execution_count": 263
  },
  {
   "cell_type": "code",
   "metadata": {
    "id": "URvRRQ-G40yI",
    "ExecuteTime": {
     "end_time": "2024-10-25T21:22:38.050312Z",
     "start_time": "2024-10-25T21:22:38.045795Z"
    }
   },
   "source": [
    "def get_betas(received, N, M, n, alphas):\n",
    "  betas = np.zeros((n, M, 3))\n",
    "\n",
    "  new_betas = alphas.copy()\n",
    "  new_betas[:,:,0] = 0 # replace relevant beta values\n",
    "\n",
    "  # shifting betas by one value to represent 1->n and not 0->n-1\n",
    "  # so betas[0] is actually the value at time t=1\n",
    "  betas[:n-1] = new_betas[1:]\n",
    "\n",
    "  # setting last beta\n",
    "  betas[-1][0] = [1,a,N-n]\n",
    "\n",
    "  mod_value = 2*n+1\n",
    "\n",
    "  for t in range(n-2,-1,-1):\n",
    "    prev_beta = [None,None,None]\n",
    "    for b in betas[t]:\n",
    "      if (b[1] == prev_beta[1] and b[2] == prev_beta[2]): # the exact same element in the current iteration, to deal with repeat elements.\n",
    "        continue\n",
    "      s_tag = b[1] # previous s\n",
    "      d_tag = b[2] # previous d\n",
    "      s0 = s_tag\n",
    "      s1 = np.mod(s_tag+(t+2),mod_value)\n",
    "\n",
    "      \n",
    "      # finding all relevant states that might have a contribution\n",
    "      relevant0 = betas[t+1][betas[t+1][:,1]==s0]\n",
    "      relevant1 = betas[t+1][betas[t+1][:,1]==s1]\n",
    "      \n",
    "      \n",
    "      for r in relevant0:\n",
    "        #if (d_tag == -4 and t==n-2 and r[0] == 1):\n",
    "         #   print(gamma(received,t+2,int(r[2]),d_tag,0))\n",
    "        b[0] += gamma(received,t+2,int(r[2]),d_tag,0)*r[0]\n",
    "      for r in relevant1:\n",
    "        b[0] += gamma(received,t+2,int(r[2]),d_tag,1)*r[0]\n",
    "\n",
    "\n",
    "      prev_beta = b\n",
    "\n",
    "    # Normalize betas[t][:,0] if sum is non-zero\n",
    "    sum = np.sum(betas[t][:,0])\n",
    "\n",
    "\n",
    "    if (sum != 0 ):\n",
    "      betas[t][:,0] = betas[t][:,0] #/  sum\n",
    "    else: betas[t][:,0] = 0\n",
    "\n",
    "  return betas"
   ],
   "outputs": [],
   "execution_count": 264
  },
  {
   "metadata": {
    "ExecuteTime": {
     "end_time": "2024-10-25T21:24:07.723413Z",
     "start_time": "2024-10-25T21:24:07.575246Z"
    }
   },
   "cell_type": "code",
   "source": [
    "a = 15\n",
    "get_betas(\"01001001\",8,400,8, get_alphas(\"01001001\", 8, 400, 8))[-4]"
   ],
   "outputs": [
    {
     "data": {
      "text/plain": [
       "array([[ 4.21478035e-08,  0.00000000e+00, -8.00000000e+00],\n",
       "       [ 0.00000000e+00,  1.50000000e+01,  6.00000000e+00],\n",
       "       [ 1.64800440e-08,  8.00000000e+00, -8.00000000e+00],\n",
       "       ...,\n",
       "       [ 0.00000000e+00,  0.00000000e+00,  0.00000000e+00],\n",
       "       [ 0.00000000e+00,  0.00000000e+00,  0.00000000e+00],\n",
       "       [ 0.00000000e+00,  0.00000000e+00,  0.00000000e+00]])"
      ]
     },
     "execution_count": 266,
     "metadata": {},
     "output_type": "execute_result"
    }
   ],
   "execution_count": 266
  },
  {
   "metadata": {
    "ExecuteTime": {
     "end_time": "2024-10-25T21:10:13.807596Z",
     "start_time": "2024-10-25T21:10:13.774942Z"
    }
   },
   "cell_type": "code",
   "source": "get_betas(\"10101\",5,200,5, get_alphas(\"10101\", 5, 200, 5))[-1][:,0]",
   "outputs": [
    {
     "data": {
      "text/plain": [
       "array([[ 1., 15.,  0.],\n",
       "       [ 0.,  0.,  0.],\n",
       "       [ 0.,  0.,  0.],\n",
       "       [ 0.,  0.,  0.],\n",
       "       [ 0.,  0.,  0.],\n",
       "       [ 0.,  0.,  0.],\n",
       "       [ 0.,  0.,  0.],\n",
       "       [ 0.,  0.,  0.],\n",
       "       [ 0.,  0.,  0.],\n",
       "       [ 0.,  0.,  0.],\n",
       "       [ 0.,  0.,  0.],\n",
       "       [ 0.,  0.,  0.],\n",
       "       [ 0.,  0.,  0.],\n",
       "       [ 0.,  0.,  0.],\n",
       "       [ 0.,  0.,  0.],\n",
       "       [ 0.,  0.,  0.],\n",
       "       [ 0.,  0.,  0.],\n",
       "       [ 0.,  0.,  0.],\n",
       "       [ 0.,  0.,  0.],\n",
       "       [ 0.,  0.,  0.],\n",
       "       [ 0.,  0.,  0.],\n",
       "       [ 0.,  0.,  0.],\n",
       "       [ 0.,  0.,  0.],\n",
       "       [ 0.,  0.,  0.],\n",
       "       [ 0.,  0.,  0.],\n",
       "       [ 0.,  0.,  0.],\n",
       "       [ 0.,  0.,  0.],\n",
       "       [ 0.,  0.,  0.],\n",
       "       [ 0.,  0.,  0.],\n",
       "       [ 0.,  0.,  0.],\n",
       "       [ 0.,  0.,  0.],\n",
       "       [ 0.,  0.,  0.],\n",
       "       [ 0.,  0.,  0.],\n",
       "       [ 0.,  0.,  0.],\n",
       "       [ 0.,  0.,  0.],\n",
       "       [ 0.,  0.,  0.],\n",
       "       [ 0.,  0.,  0.],\n",
       "       [ 0.,  0.,  0.],\n",
       "       [ 0.,  0.,  0.],\n",
       "       [ 0.,  0.,  0.],\n",
       "       [ 0.,  0.,  0.],\n",
       "       [ 0.,  0.,  0.],\n",
       "       [ 0.,  0.,  0.],\n",
       "       [ 0.,  0.,  0.],\n",
       "       [ 0.,  0.,  0.],\n",
       "       [ 0.,  0.,  0.],\n",
       "       [ 0.,  0.,  0.],\n",
       "       [ 0.,  0.,  0.],\n",
       "       [ 0.,  0.,  0.],\n",
       "       [ 0.,  0.,  0.],\n",
       "       [ 0.,  0.,  0.],\n",
       "       [ 0.,  0.,  0.],\n",
       "       [ 0.,  0.,  0.],\n",
       "       [ 0.,  0.,  0.],\n",
       "       [ 0.,  0.,  0.],\n",
       "       [ 0.,  0.,  0.],\n",
       "       [ 0.,  0.,  0.],\n",
       "       [ 0.,  0.,  0.],\n",
       "       [ 0.,  0.,  0.],\n",
       "       [ 0.,  0.,  0.],\n",
       "       [ 0.,  0.,  0.],\n",
       "       [ 0.,  0.,  0.],\n",
       "       [ 0.,  0.,  0.],\n",
       "       [ 0.,  0.,  0.],\n",
       "       [ 0.,  0.,  0.],\n",
       "       [ 0.,  0.,  0.],\n",
       "       [ 0.,  0.,  0.],\n",
       "       [ 0.,  0.,  0.],\n",
       "       [ 0.,  0.,  0.],\n",
       "       [ 0.,  0.,  0.],\n",
       "       [ 0.,  0.,  0.],\n",
       "       [ 0.,  0.,  0.],\n",
       "       [ 0.,  0.,  0.],\n",
       "       [ 0.,  0.,  0.],\n",
       "       [ 0.,  0.,  0.],\n",
       "       [ 0.,  0.,  0.],\n",
       "       [ 0.,  0.,  0.],\n",
       "       [ 0.,  0.,  0.],\n",
       "       [ 0.,  0.,  0.],\n",
       "       [ 0.,  0.,  0.],\n",
       "       [ 0.,  0.,  0.],\n",
       "       [ 0.,  0.,  0.],\n",
       "       [ 0.,  0.,  0.],\n",
       "       [ 0.,  0.,  0.],\n",
       "       [ 0.,  0.,  0.],\n",
       "       [ 0.,  0.,  0.],\n",
       "       [ 0.,  0.,  0.],\n",
       "       [ 0.,  0.,  0.],\n",
       "       [ 0.,  0.,  0.],\n",
       "       [ 0.,  0.,  0.],\n",
       "       [ 0.,  0.,  0.],\n",
       "       [ 0.,  0.,  0.],\n",
       "       [ 0.,  0.,  0.],\n",
       "       [ 0.,  0.,  0.],\n",
       "       [ 0.,  0.,  0.],\n",
       "       [ 0.,  0.,  0.],\n",
       "       [ 0.,  0.,  0.],\n",
       "       [ 0.,  0.,  0.],\n",
       "       [ 0.,  0.,  0.],\n",
       "       [ 0.,  0.,  0.],\n",
       "       [ 0.,  0.,  0.],\n",
       "       [ 0.,  0.,  0.],\n",
       "       [ 0.,  0.,  0.],\n",
       "       [ 0.,  0.,  0.],\n",
       "       [ 0.,  0.,  0.],\n",
       "       [ 0.,  0.,  0.],\n",
       "       [ 0.,  0.,  0.],\n",
       "       [ 0.,  0.,  0.],\n",
       "       [ 0.,  0.,  0.],\n",
       "       [ 0.,  0.,  0.],\n",
       "       [ 0.,  0.,  0.],\n",
       "       [ 0.,  0.,  0.],\n",
       "       [ 0.,  0.,  0.],\n",
       "       [ 0.,  0.,  0.],\n",
       "       [ 0.,  0.,  0.],\n",
       "       [ 0.,  0.,  0.],\n",
       "       [ 0.,  0.,  0.],\n",
       "       [ 0.,  0.,  0.],\n",
       "       [ 0.,  0.,  0.],\n",
       "       [ 0.,  0.,  0.],\n",
       "       [ 0.,  0.,  0.],\n",
       "       [ 0.,  0.,  0.],\n",
       "       [ 0.,  0.,  0.],\n",
       "       [ 0.,  0.,  0.],\n",
       "       [ 0.,  0.,  0.],\n",
       "       [ 0.,  0.,  0.],\n",
       "       [ 0.,  0.,  0.],\n",
       "       [ 0.,  0.,  0.],\n",
       "       [ 0.,  0.,  0.],\n",
       "       [ 0.,  0.,  0.],\n",
       "       [ 0.,  0.,  0.],\n",
       "       [ 0.,  0.,  0.],\n",
       "       [ 0.,  0.,  0.],\n",
       "       [ 0.,  0.,  0.],\n",
       "       [ 0.,  0.,  0.],\n",
       "       [ 0.,  0.,  0.],\n",
       "       [ 0.,  0.,  0.],\n",
       "       [ 0.,  0.,  0.],\n",
       "       [ 0.,  0.,  0.],\n",
       "       [ 0.,  0.,  0.],\n",
       "       [ 0.,  0.,  0.],\n",
       "       [ 0.,  0.,  0.],\n",
       "       [ 0.,  0.,  0.],\n",
       "       [ 0.,  0.,  0.],\n",
       "       [ 0.,  0.,  0.],\n",
       "       [ 0.,  0.,  0.],\n",
       "       [ 0.,  0.,  0.],\n",
       "       [ 0.,  0.,  0.],\n",
       "       [ 0.,  0.,  0.],\n",
       "       [ 0.,  0.,  0.],\n",
       "       [ 0.,  0.,  0.],\n",
       "       [ 0.,  0.,  0.],\n",
       "       [ 0.,  0.,  0.],\n",
       "       [ 0.,  0.,  0.],\n",
       "       [ 0.,  0.,  0.],\n",
       "       [ 0.,  0.,  0.],\n",
       "       [ 0.,  0.,  0.],\n",
       "       [ 0.,  0.,  0.],\n",
       "       [ 0.,  0.,  0.],\n",
       "       [ 0.,  0.,  0.],\n",
       "       [ 0.,  0.,  0.],\n",
       "       [ 0.,  0.,  0.],\n",
       "       [ 0.,  0.,  0.],\n",
       "       [ 0.,  0.,  0.],\n",
       "       [ 0.,  0.,  0.],\n",
       "       [ 0.,  0.,  0.],\n",
       "       [ 0.,  0.,  0.],\n",
       "       [ 0.,  0.,  0.],\n",
       "       [ 0.,  0.,  0.],\n",
       "       [ 0.,  0.,  0.],\n",
       "       [ 0.,  0.,  0.],\n",
       "       [ 0.,  0.,  0.],\n",
       "       [ 0.,  0.,  0.],\n",
       "       [ 0.,  0.,  0.],\n",
       "       [ 0.,  0.,  0.],\n",
       "       [ 0.,  0.,  0.],\n",
       "       [ 0.,  0.,  0.],\n",
       "       [ 0.,  0.,  0.],\n",
       "       [ 0.,  0.,  0.],\n",
       "       [ 0.,  0.,  0.],\n",
       "       [ 0.,  0.,  0.],\n",
       "       [ 0.,  0.,  0.],\n",
       "       [ 0.,  0.,  0.],\n",
       "       [ 0.,  0.,  0.],\n",
       "       [ 0.,  0.,  0.],\n",
       "       [ 0.,  0.,  0.],\n",
       "       [ 0.,  0.,  0.],\n",
       "       [ 0.,  0.,  0.],\n",
       "       [ 0.,  0.,  0.],\n",
       "       [ 0.,  0.,  0.],\n",
       "       [ 0.,  0.,  0.],\n",
       "       [ 0.,  0.,  0.],\n",
       "       [ 0.,  0.,  0.],\n",
       "       [ 0.,  0.,  0.],\n",
       "       [ 0.,  0.,  0.],\n",
       "       [ 0.,  0.,  0.],\n",
       "       [ 0.,  0.,  0.],\n",
       "       [ 0.,  0.,  0.],\n",
       "       [ 0.,  0.,  0.],\n",
       "       [ 0.,  0.,  0.]])"
      ]
     },
     "execution_count": 246,
     "metadata": {},
     "output_type": "execute_result"
    }
   ],
   "execution_count": 246
  },
  {
   "metadata": {
    "ExecuteTime": {
     "end_time": "2024-10-25T21:10:35.248838Z",
     "start_time": "2024-10-25T21:10:35.220590Z"
    }
   },
   "cell_type": "code",
   "source": [
    "a=15\n",
    "np.sum(get_betas(\"10101\",5,200,5, get_alphas(\"10101\", 5, 200, 5))[-1][:,0])"
   ],
   "outputs": [
    {
     "data": {
      "text/plain": [
       "1.0"
      ]
     },
     "execution_count": 249,
     "metadata": {},
     "output_type": "execute_result"
    }
   ],
   "execution_count": 249
  },
  {
   "cell_type": "code",
   "metadata": {
    "id": "OHCVc4IN5UkT",
    "ExecuteTime": {
     "end_time": "2024-10-25T20:55:46.333315Z",
     "start_time": "2024-10-25T20:55:46.325837Z"
    }
   },
   "source": [
    "def sequence_prob(received, t, b, n, alphas, betas):\n",
    "  sum = 0\n",
    "  for alpha in alphas[t-1]:\n",
    "    s_tag = int(alpha[1])\n",
    "    d_tag = int(alpha[2])\n",
    "    for beta in betas[t-1][betas[t-1][:,1] == np.mod(s_tag + t*b,2*n+1)]:\n",
    "      d = int(beta[2])\n",
    "      g = gamma(received,t,d,d_tag,b)\n",
    "      sum += g*alpha[0]*beta[0]\n",
    "  return sum"
   ],
   "outputs": [],
   "execution_count": 237
  },
  {
   "metadata": {
    "ExecuteTime": {
     "end_time": "2024-10-25T20:55:46.553661Z",
     "start_time": "2024-10-25T20:55:46.550158Z"
    }
   },
   "cell_type": "code",
   "source": [
    "def get_likelyhood(received_seq, n, M):\n",
    "    # perform on one sequence at a time, helps to prevent multiple calculations\n",
    "    avg = np.zeros(n)\n",
    "    N = len(received_seq)\n",
    "    # Step 1: Find alphas for sequence\n",
    "    alphas = get_alphas(received_seq, N, M, n)\n",
    "    # Step 2: Using alphas chosen s,d - find betas for sequence\n",
    "    betas = get_betas(received_seq, N, M, n, alphas)\n",
    "    \n",
    "    # Step 3: Calculate sequence probability\n",
    "    for t in range(1,n+1):\n",
    "        prob0 = sequence_prob(received_seq,t=t,b=0,n=n,alphas=alphas,betas=betas)\n",
    "        prob1 = sequence_prob(received_seq,t=t,b=1,n=n,alphas=alphas,betas=betas)\n",
    "        if (prob0 == 0 or prob1 ==0): \n",
    "            # at least one of the probabilities is very low and omitted. Assume L=0 (equally likely) as stated in paper and rely on other sequences\n",
    "            # This is done because of M, for full recovery we can assume full recovery\n",
    "            L = 0\n",
    "        else: L = np.log(prob0/prob1)\n",
    "        avg[t-1] = L\n",
    "    return avg"
   ],
   "outputs": [],
   "execution_count": 238
  },
  {
   "metadata": {
    "ExecuteTime": {
     "end_time": "2024-10-25T20:58:22.167663Z",
     "start_time": "2024-10-25T20:58:17.739785Z"
    }
   },
   "cell_type": "code",
   "source": [
    "a = 15\n",
    "get_likelyhood(\"01001001\",8, 1000)"
   ],
   "outputs": [
    {
     "data": {
      "text/plain": [
       "array([ 1.32915564,  0.54375653,  1.2331389 ,  0.71668835,  0.09505536,\n",
       "        0.71825645,  0.55359556, -0.88260703])"
      ]
     },
     "execution_count": 240,
     "metadata": {},
     "output_type": "execute_result"
    }
   ],
   "execution_count": 240
  },
  {
   "cell_type": "code",
   "metadata": {
    "id": "LM2yGEty3ZS0",
    "ExecuteTime": {
     "end_time": "2024-10-25T19:42:12.402314Z",
     "start_time": "2024-10-25T19:42:12.398991Z"
    }
   },
   "source": [
    "def get_probs(received_seq, t, n, sequences, M):\n",
    "\n",
    "  avg = np.zeros(n)\n",
    "  # Iterate over all sequences\n",
    "  for i in range(sequences):\n",
    "    N = len(received_seq[i]) # length of received message\n",
    "    # Step 1: Find alphas for sequence\n",
    "    alphas = get_alphas(received_seq[i], N, M, n)\n",
    "\n",
    "    # Step 2: Using alphas chosen s,d - find betas for sequence\n",
    "    betas = get_betas(received_seq[i], N, M, n, alphas)\n",
    "\n",
    "\n",
    "    #print(betas)\n",
    "    # Step 2: Calculate sequence probability\n",
    "    for t in range(1,n+1):\n",
    "      prob0 = sequence_prob(received_seq[i],t=t,b=0,n=n, alphas=alphas, betas=betas)\n",
    "      prob1 = sequence_prob(received_seq[i],t=t,b=1,n=n, alphas=alphas, betas=betas)\n",
    "      if (prob1 == 0):\n",
    "        prob = 100\n",
    "      elif (prob0 == 0):\n",
    "        prob = -100\n",
    "      else: prob = np.log(prob0/prob1)\n",
    "      avg[t-1] += prob\n",
    "  #avg = avg/sequences\n",
    "  #print(avg)\n",
    "  return avg"
   ],
   "outputs": [],
   "execution_count": 191
  },
  {
   "metadata": {
    "ExecuteTime": {
     "end_time": "2024-10-25T16:14:24.026956Z",
     "start_time": "2024-10-25T16:14:24.024105Z"
    }
   },
   "cell_type": "code",
   "source": [
    " import random\n",
    " def rand_input(length):\n",
    "    return ''.join(random.choice(['0', '1']) for _ in range(length))"
   ],
   "outputs": [],
   "execution_count": 143
  },
  {
   "metadata": {
    "ExecuteTime": {
     "end_time": "2024-10-25T16:11:27.788147Z",
     "start_time": "2024-10-25T16:11:27.780524Z"
    }
   },
   "cell_type": "code",
   "source": "rand_input(6)",
   "outputs": [
    {
     "data": {
      "text/plain": [
       "'101100'"
      ]
     },
     "execution_count": 136,
     "metadata": {},
     "output_type": "execute_result"
    }
   ],
   "execution_count": 136
  },
  {
   "cell_type": "code",
   "metadata": {
    "id": "t5TCJ7CbvVyu",
    "ExecuteTime": {
     "end_time": "2024-10-25T16:06:13.977181Z",
     "start_time": "2024-10-25T16:06:13.974234Z"
    }
   },
   "source": [
    "a = 4 # the number used for encoding\n",
    "input = rand_input(60) # the given input sequence\n",
    "pr = 3/100 # percent\n",
    "p_d, p_i, p_s  = pr/3, pr/3, pr/3 #probabilities\n",
    "p_t = 1-p_d-p_i #probability of transition\n",
    "n = find_n(len(input)) # length of the coded number\n",
    "sequences = 1 # number of generated sequences"
   ],
   "outputs": [],
   "execution_count": 123
  },
  {
   "metadata": {
    "ExecuteTime": {
     "end_time": "2024-10-25T16:06:13.992079Z",
     "start_time": "2024-10-25T16:06:13.982306Z"
    }
   },
   "cell_type": "code",
   "source": [
    "def hard_decoder(received, a, n):\n",
    "    N = len(received)\n",
    "    digit_sum = np.sum(received)\n",
    "    syndrome = sum((i+1) * bit for i, bit in enumerate(received))\n",
    "    diff = np.abs(syndrome - a)\n",
    "    if (np.abs(n-N) > 1 or diff > n+1):\n",
    "        # beyond the scope of the algorithm\n",
    "        return received\n",
    "    \n",
    "    if (N==n+1): # assume one element inserted\n",
    "        if (diff > digit_sum): # 1 inserted\n",
    "            index_0 = diff - digit_sum\n",
    "            inserted_index = np.where(received == 0)[0][index_0-1]+1 # index where the extra element is\n",
    "        elif (diff==0): # edge case where 0 was inserted at the end\n",
    "            inserted_index = N-1\n",
    "        elif (diff < digit_sum): # 0 inserted\n",
    "            index_1 = -diff\n",
    "            inserted_index = np.where(received == 1)[0][index_1]-1 # index where the extra element is\n",
    "        else: # we don't know what was inserted but it is the first digit anyways\n",
    "            inserted_index = 0\n",
    "        return np.delete(received,inserted_index)\n",
    "    if (N==n-1): # assume one element deleted\n",
    "        deleted_element = 0\n",
    "        if (diff > digit_sum): # 1 deleted\n",
    "            deleted_element = 1\n",
    "            index_0 = diff - (digit_sum + 1) # plus 1 because the 1 element was deleted\n",
    "            if(index_0 == 0): # edge case where it is before any zeroes\n",
    "                deleted_index = 0\n",
    "            else: deleted_index = np.where(received == 0)[0][index_0-1]+1 # index where the element should be \n",
    "        elif (diff == 0): # 0 deleted, edge case where it was last element\n",
    "            deleted_index = N\n",
    "        elif (diff < digit_sum): # 0 deleted\n",
    "            index_1 = -diff\n",
    "            deleted_index = np.where(received == 1)[0][index_1]#-1 # all elements are shifted right after insert\n",
    "        else: # has to be 0 that was deleted\n",
    "            deleted_index = 0\n",
    "        return np.insert(received,deleted_index,deleted_element)\n",
    "    if (N==n): # Assume 1 substitution\n",
    "        #if (diff == 0): # edge case of 0 at the end\n",
    "            #recieved\n",
    "        #print(diff)\n",
    "        index = diff-1\n",
    "        received[index] = 1- received[index]\n",
    "        return received"
   ],
   "outputs": [],
   "execution_count": 124
  },
  {
   "metadata": {
    "ExecuteTime": {
     "end_time": "2024-10-25T16:06:13.995876Z",
     "start_time": "2024-10-25T16:06:13.993306Z"
    }
   },
   "cell_type": "code",
   "source": "print(hard_decoder(np.array([0,0,0,1,0,0,1,0,0,1]), a = 0, n = 10)) # [1, 0, 1, 1, 0, 0, 1]",
   "outputs": [
    {
     "name": "stdout",
     "output_type": "stream",
     "text": [
      "[0 0 0 1 0 0 1 0 0 1]\n"
     ]
    }
   ],
   "execution_count": 125
  },
  {
   "metadata": {
    "ExecuteTime": {
     "end_time": "2024-10-25T16:06:14.358088Z",
     "start_time": "2024-10-25T16:06:14.355313Z"
    }
   },
   "cell_type": "code",
   "source": [
    "def count_diff(str1,str2):\n",
    "    len1, len2 = len(str1), len(str2)\n",
    "    min_len = min(len1,len2)\n",
    "    \n",
    "    return sum(c1 != c2 for c1, c2 in zip(str1[:min_len], str2[:min_len])) + np.abs(len1-len2)"
   ],
   "outputs": [],
   "execution_count": 127
  },
  {
   "cell_type": "code",
   "source": [
    "error_rates = [1.0, 1.5, 2.0, 2.5, 3.0]\n",
    "BER = np.zeros((len(error_rates), 3))\n",
    "tries = 200\n",
    "n = 68\n",
    "for e in error_rates:\n",
    "  pr = e/100 # percent\n",
    "  p_d, p_i, p_s  = pr/3, pr/3, pr/3 #probabilities\n",
    "  p_t = 1-p_d-p_i #probability of transition\n",
    "  BER_avg_200 = 0\n",
    "  BER_avg_300 = 0\n",
    "  BER_avg_hard = 0\n",
    "  for t in range(tries):\n",
    "    input = rand_input(60)\n",
    "    coded = encoder_VT(input,a=0)\n",
    "    received_seq = [print_strand(coded, p_i, p_d, p_s) for i in range(sequences)]\n",
    "    \n",
    "    extracted_200 = extract_message(''.join((get_probs(received_seq, t=1, n=n, sequences=sequences, M=200)<0).astype(int).astype(str)))\n",
    "    extracted_300 = extract_message(''.join((get_probs(received_seq, t=1, n=n, sequences=sequences, M=300)<0).astype(int).astype(str)))\n",
    "    extracted_hard = extract_message(''.join(np.array(hard_decoder(np.array(list(received_seq[0])).astype(int), a=0, n=68)).astype(str)))\n",
    "        \n",
    "    BER_avg_200 += count_diff(extracted_200, input)\n",
    "    BER_avg_300 += count_diff(extracted_300, input)\n",
    "    BER_avg_hard += count_diff(extracted_hard, input)\n",
    "    print(\"t: \", t, \" e:\", e)\n",
    "  BER[error_rates.index(e),0] = BER_avg_200\n",
    "  BER[error_rates.index(e),1] = BER_avg_300\n",
    "  BER[error_rates.index(e),2] = BER_avg_hard\n",
    "  \n",
    "BER /= (tries * 60) # normalizing"
   ],
   "metadata": {
    "id": "fB3CIMreAmP1",
    "colab": {
     "base_uri": "https://localhost:8080/",
     "height": 356
    },
    "outputId": "dc802684-7504-4e8c-f913-c7c9f43b0e64",
    "ExecuteTime": {
     "end_time": "2024-10-25T16:07:00.008846Z",
     "start_time": "2024-10-25T16:06:14.359076Z"
    }
   },
   "outputs": [
    {
     "name": "stdout",
     "output_type": "stream",
     "text": [
      "t:  0  e: 1.0\n",
      "t:  1  e: 1.0\n",
      "t:  2  e: 1.0\n",
      "t:  3  e: 1.0\n"
     ]
    },
    {
     "ename": "KeyboardInterrupt",
     "evalue": "",
     "output_type": "error",
     "traceback": [
      "\u001B[0;31m---------------------------------------------------------------------------\u001B[0m",
      "\u001B[0;31mKeyboardInterrupt\u001B[0m                         Traceback (most recent call last)",
      "Cell \u001B[0;32mIn[128], line 18\u001B[0m\n\u001B[1;32m     15\u001B[0m received_seq \u001B[38;5;241m=\u001B[39m [print_strand(coded, p_i, p_d, p_s) \u001B[38;5;28;01mfor\u001B[39;00m i \u001B[38;5;129;01min\u001B[39;00m \u001B[38;5;28mrange\u001B[39m(sequences)]\n\u001B[1;32m     17\u001B[0m extracted_200 \u001B[38;5;241m=\u001B[39m extract_message(\u001B[38;5;124m'\u001B[39m\u001B[38;5;124m'\u001B[39m\u001B[38;5;241m.\u001B[39mjoin((get_probs(received_seq, t\u001B[38;5;241m=\u001B[39m\u001B[38;5;241m1\u001B[39m, n\u001B[38;5;241m=\u001B[39mn, sequences\u001B[38;5;241m=\u001B[39msequences, M\u001B[38;5;241m=\u001B[39m\u001B[38;5;241m200\u001B[39m)\u001B[38;5;241m<\u001B[39m\u001B[38;5;241m0\u001B[39m)\u001B[38;5;241m.\u001B[39mastype(\u001B[38;5;28mint\u001B[39m)\u001B[38;5;241m.\u001B[39mastype(\u001B[38;5;28mstr\u001B[39m)))\n\u001B[0;32m---> 18\u001B[0m extracted_300 \u001B[38;5;241m=\u001B[39m extract_message(\u001B[38;5;124m'\u001B[39m\u001B[38;5;124m'\u001B[39m\u001B[38;5;241m.\u001B[39mjoin((\u001B[43mget_probs\u001B[49m\u001B[43m(\u001B[49m\u001B[43mreceived_seq\u001B[49m\u001B[43m,\u001B[49m\u001B[43m \u001B[49m\u001B[43mt\u001B[49m\u001B[38;5;241;43m=\u001B[39;49m\u001B[38;5;241;43m1\u001B[39;49m\u001B[43m,\u001B[49m\u001B[43m \u001B[49m\u001B[43mn\u001B[49m\u001B[38;5;241;43m=\u001B[39;49m\u001B[43mn\u001B[49m\u001B[43m,\u001B[49m\u001B[43m \u001B[49m\u001B[43msequences\u001B[49m\u001B[38;5;241;43m=\u001B[39;49m\u001B[43msequences\u001B[49m\u001B[43m,\u001B[49m\u001B[43m \u001B[49m\u001B[43mM\u001B[49m\u001B[38;5;241;43m=\u001B[39;49m\u001B[38;5;241;43m300\u001B[39;49m\u001B[43m)\u001B[49m\u001B[38;5;241m<\u001B[39m\u001B[38;5;241m0\u001B[39m)\u001B[38;5;241m.\u001B[39mastype(\u001B[38;5;28mint\u001B[39m)\u001B[38;5;241m.\u001B[39mastype(\u001B[38;5;28mstr\u001B[39m)))\n\u001B[1;32m     19\u001B[0m extracted_hard \u001B[38;5;241m=\u001B[39m extract_message(\u001B[38;5;124m'\u001B[39m\u001B[38;5;124m'\u001B[39m\u001B[38;5;241m.\u001B[39mjoin(np\u001B[38;5;241m.\u001B[39marray(hard_decoder(np\u001B[38;5;241m.\u001B[39marray(\u001B[38;5;28mlist\u001B[39m(received_seq[\u001B[38;5;241m0\u001B[39m]))\u001B[38;5;241m.\u001B[39mastype(\u001B[38;5;28mint\u001B[39m), a\u001B[38;5;241m=\u001B[39m\u001B[38;5;241m0\u001B[39m, n\u001B[38;5;241m=\u001B[39m\u001B[38;5;241m68\u001B[39m))\u001B[38;5;241m.\u001B[39mastype(\u001B[38;5;28mstr\u001B[39m)))\n\u001B[1;32m     21\u001B[0m BER_avg_200 \u001B[38;5;241m+\u001B[39m\u001B[38;5;241m=\u001B[39m count_diff(extracted_200, \u001B[38;5;28minput\u001B[39m)\n",
      "Cell \u001B[0;32mIn[120], line 9\u001B[0m, in \u001B[0;36mget_probs\u001B[0;34m(received_seq, t, n, sequences, M)\u001B[0m\n\u001B[1;32m      7\u001B[0m N \u001B[38;5;241m=\u001B[39m \u001B[38;5;28mlen\u001B[39m(received_seq[i]) \u001B[38;5;66;03m# length of received message\u001B[39;00m\n\u001B[1;32m      8\u001B[0m \u001B[38;5;66;03m# Step 1: Find alphas for sequence\u001B[39;00m\n\u001B[0;32m----> 9\u001B[0m alphas \u001B[38;5;241m=\u001B[39m \u001B[43mget_alphas\u001B[49m\u001B[43m(\u001B[49m\u001B[43mreceived_seq\u001B[49m\u001B[43m[\u001B[49m\u001B[43mi\u001B[49m\u001B[43m]\u001B[49m\u001B[43m,\u001B[49m\u001B[43m \u001B[49m\u001B[43mN\u001B[49m\u001B[43m,\u001B[49m\u001B[43m \u001B[49m\u001B[43mM\u001B[49m\u001B[43m,\u001B[49m\u001B[43m \u001B[49m\u001B[43mn\u001B[49m\u001B[43m)\u001B[49m\n\u001B[1;32m     11\u001B[0m \u001B[38;5;66;03m# Step 2: Using alphas chosen s,d - find betas for sequence\u001B[39;00m\n\u001B[1;32m     12\u001B[0m betas \u001B[38;5;241m=\u001B[39m get_betas(received_seq[i], N, M, n, alphas)\n",
      "Cell \u001B[0;32mIn[112], line 33\u001B[0m, in \u001B[0;36mget_alphas\u001B[0;34m(received, N, M, n)\u001B[0m\n\u001B[1;32m     31\u001B[0m   s_tag_index \u001B[38;5;241m=\u001B[39m i\u001B[38;5;241m%\u001B[39m\u001B[38;5;28mlen\u001B[39m(s0)\n\u001B[1;32m     32\u001B[0m   \u001B[38;5;28;01mfor\u001B[39;00m d \u001B[38;5;129;01min\u001B[39;00m \u001B[38;5;28mrange\u001B[39m(\u001B[38;5;241m-\u001B[39mn,N): \u001B[38;5;66;03m# including the negative values\u001B[39;00m\n\u001B[0;32m---> 33\u001B[0m     next_states[s_index][d\u001B[38;5;241m+\u001B[39mn][\u001B[38;5;241m0\u001B[39m] \u001B[38;5;241m+\u001B[39m\u001B[38;5;241m=\u001B[39m gamma(received,t,d,alphas[t\u001B[38;5;241m-\u001B[39m\u001B[38;5;241m1\u001B[39m][s_tag_index][\u001B[38;5;241m2\u001B[39m],b)\u001B[38;5;241m*\u001B[39malphas[t\u001B[38;5;241m-\u001B[39m\u001B[38;5;241m1\u001B[39m][s_tag_index][\u001B[38;5;241m0\u001B[39m]\n\u001B[1;32m     34\u001B[0m \u001B[38;5;66;03m# merge all states\u001B[39;00m\n\u001B[1;32m     35\u001B[0m merged \u001B[38;5;241m=\u001B[39m np\u001B[38;5;241m.\u001B[39mconcatenate(next_states,axis\u001B[38;5;241m=\u001B[39m\u001B[38;5;241m0\u001B[39m)\n",
      "\u001B[0;31mKeyboardInterrupt\u001B[0m: "
     ]
    }
   ],
   "execution_count": 128
  },
  {
   "cell_type": "code",
   "metadata": {
    "id": "ausrikDA8FQ-",
    "ExecuteTime": {
     "end_time": "2024-10-25T16:07:00.010286Z",
     "start_time": "2024-10-25T16:07:00.010224Z"
    }
   },
   "source": [
    "import matplotlib.pyplot as plt\n",
    "plt.yscale(\"log\")\n",
    "plt.ylim(1e-2,1)\n",
    "plt.grid()\n",
    "plt.xlabel(\"Error Rate (%)\")\n",
    "plt.ylabel(\"BER\")\n",
    "plt.plot(error_rates, BER[:,0], label = \"M=200\")\n",
    "plt.plot(error_rates, BER[:,1], label = \"M=300\")\n",
    "plt.plot(error_rates, BER[:,2], label = \"Hard Decision\")\n",
    "plt.legend()\n",
    "plt.minorticks_on()\n",
    "plt.show()\n"
   ],
   "outputs": [],
   "execution_count": null
  },
  {
   "metadata": {},
   "cell_type": "code",
   "source": [
    "error_rates = [1.0, 1.5, 2.0, 2.5, 3.0]\n",
    "num_sequences = [1,3,5,10]\n",
    "BER_sequences = np.zeros((len(num_sequences),len(error_rates)))\n",
    "tries = 100\n",
    "\n",
    "\n",
    "\n",
    "for e in error_rates:\n",
    "    pr = e/100 # percent\n",
    "    p_d, p_i, p_s  = pr/3, pr/3, pr/3 #probabilities\n",
    "    p_t = 1-p_d-p_i #probability of transition\n",
    "    \n",
    "    # each time we will use \n",
    "    for t in range(tries):\n",
    "        input = rand_input(60)\n",
    "        # encoding\n",
    "        coded = encoder_VT(input,a=0)\n",
    "        received_probs = np.zeros((30,n))\n",
    "        # recieving new strands and finding the probabilities\n",
    "        for i in range(30): # for all attempts, 3*10 so that all sequences divide well\n",
    "            received_probs[i] = get_likelyhood(print_strand(coded, p_i, p_d, p_s), n=68, M=200)\n",
    "        # decoding based on sequence size\n",
    "        for sequences in num_sequences:\n",
    "            split_probs = np.split(received_probs,30//sequences)\n",
    "            # calculate sum for each of the split likelyhoods and extract the message\n",
    "            for i in range(len(split_probs)):\n",
    "                sum_likelyhood = np.sum(split_probs[i],axis=0)\n",
    "                # decoding and extracting\n",
    "                extracted = extract_message(''.join((sum_likelyhood<0).astype(int).astype(str)))\n",
    "                BER_sequences[num_sequences.index(sequences),error_rates.index(e)] += count_diff(extracted, input)\n",
    "            # normalize\n",
    "            BER_sequences[num_sequences.index(sequences),error_rates.index(e)]/= len(split_probs)\n",
    "        print(\"e: \",e,\" t: \", t)\n",
    "BER_sequences /= tries"
   ],
   "outputs": [],
   "execution_count": null
  },
  {
   "metadata": {},
   "cell_type": "code",
   "source": [
    "import matplotlib.pyplot as plot\n",
    "plot.yscale(\"log\")\n",
    "plot.grid()\n",
    "plt.ylim(1e-3,1)\n",
    "plot.xlabel(\"Error Rate (%)\")\n",
    "plot.ylabel(\"BER\")\n",
    "plt.plot(error_rates, BER_sequences[0], label = \"c=1\")\n",
    "plt.plot(error_rates, BER_sequences[1], label = \"c=3\")\n",
    "plt.plot(error_rates, BER_sequences[2], label = \"c=5\")\n",
    "plt.plot(error_rates, BER_sequences[3], label = \"c=10\")\n",
    "plt.legend()\n",
    "plt.minorticks_on()\n",
    "plt.show()"
   ],
   "outputs": [],
   "execution_count": null
  },
  {
   "cell_type": "markdown",
   "metadata": {
    "id": "XO5RfGyL-L89"
   },
   "source": [
    "\n",
    "\n",
    "---\n",
    "\n"
   ]
  }
 ],
 "metadata": {
  "colab": {
   "provenance": []
  },
  "kernelspec": {
   "display_name": "Python 3 (ipykernel)",
   "name": "python3",
   "language": "python"
  },
  "language_info": {
   "name": "python"
  }
 },
 "nbformat": 4,
 "nbformat_minor": 0
}
